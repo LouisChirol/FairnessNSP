{
 "cells": [
  {
   "cell_type": "markdown",
   "metadata": {},
   "source": [
    "### Imports"
   ]
  },
  {
   "cell_type": "code",
   "execution_count": 1,
   "metadata": {},
   "outputs": [],
   "source": [
    "import cplex\n",
    "import docplex"
   ]
  },
  {
   "cell_type": "markdown",
   "metadata": {},
   "source": [
    "### IBM example"
   ]
  },
  {
   "cell_type": "markdown",
   "metadata": {},
   "source": [
    "#### Basic example"
   ]
  },
  {
   "cell_type": "code",
   "execution_count": 2,
   "metadata": {},
   "outputs": [],
   "source": [
    "# first import the Model class from docplex.mp\n",
    "from docplex.mp.model import Model\n",
    "\n",
    "# create one model instance, with a name\n",
    "m = Model(name='telephone_production')\n",
    "\n",
    "# by default, all variables in Docplex have a lower bound of 0 and infinite upper bound\n",
    "desk = m.continuous_var(name='desk')\n",
    "cell = m.continuous_var(name='cell')\n",
    "\n",
    "# write constraints\n",
    "# constraint #1: desk production is greater than 100\n",
    "m.add_constraint(desk >= 100)\n",
    "\n",
    "# constraint #2: cell production is greater than 100\n",
    "m.add_constraint(cell >= 100)\n",
    "\n",
    "# constraint #3: assembly time limit\n",
    "ct_assembly = m.add_constraint( 0.2 * desk + 0.4 * cell <= 400)\n",
    "\n",
    "# constraint #4: paiting time limit\n",
    "ct_painting = m.add_constraint( 0.5 * desk + 0.4 * cell <= 490)\n",
    "\n",
    "# write objective\n",
    "m.maximize(12 * desk + 20 * cell)\n",
    "\n",
    "# print model\n",
    "m.print_information()"
   ]
  },
  {
   "cell_type": "code",
   "execution_count": 7,
   "metadata": {},
   "outputs": [
    {
     "name": "stdout",
     "output_type": "stream",
     "text": [
      "objective: 20600.000\n",
      "status: OPTIMAL_SOLUTION(2)\n",
      "  desk=300.000\n",
      "  cell=850.000\n"
     ]
    }
   ],
   "source": [
    "# solve model and print solution\n",
    "s = m.solve()\n",
    "m.print_solution()"
   ]
  },
  {
   "cell_type": "markdown",
   "metadata": {},
   "source": [
    "#### Infeasible problem"
   ]
  },
  {
   "cell_type": "code",
   "execution_count": 8,
   "metadata": {},
   "outputs": [
    {
     "name": "stdout",
     "output_type": "stream",
     "text": [
      "- model is infeasible\n"
     ]
    }
   ],
   "source": [
    "# create a new model, copy of m\n",
    "im = m.copy()\n",
    "# get the 'desk' variable of the new model from its name\n",
    "idesk = im.get_var_by_name('desk')\n",
    "# add a new (infeasible) constraint\n",
    "im.add_constraint(idesk >= 1100);\n",
    "# solve the new proble, we expect a result of None as the model is now infeasible\n",
    "ims = im.solve()\n",
    "if ims is None:\n",
    "    print('- model is infeasible')\n"
   ]
  }
 ],
 "metadata": {
  "kernelspec": {
   "display_name": "cplex",
   "language": "python",
   "name": "python3"
  },
  "language_info": {
   "codemirror_mode": {
    "name": "ipython",
    "version": 3
   },
   "file_extension": ".py",
   "mimetype": "text/x-python",
   "name": "python",
   "nbconvert_exporter": "python",
   "pygments_lexer": "ipython3",
   "version": "3.8.0"
  }
 },
 "nbformat": 4,
 "nbformat_minor": 2
}
